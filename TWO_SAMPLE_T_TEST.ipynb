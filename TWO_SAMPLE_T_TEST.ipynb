{
  "nbformat": 4,
  "nbformat_minor": 0,
  "metadata": {
    "colab": {
      "name": "TWO SAMPLE T-TEST.ipynb",
      "provenance": [],
      "collapsed_sections": []
    },
    "kernelspec": {
      "name": "python3",
      "display_name": "Python 3"
    },
    "language_info": {
      "name": "python"
    }
  },
  "cells": [
    {
      "cell_type": "code",
      "metadata": {
        "id": "H-wUuZg0et-Q"
      },
      "source": [
        "import numpy as np\n",
        "import pandas as pd\n",
        "import scipy.stats as stats\n",
        "import math\n",
        "np.random.seed(8)\n",
        "classA_ages=stats.poisson.rvs(loc=18,mu=30,size=75)\n",
        "np.random.seed(12)\n",
        "classB_ages=stats.poisson.rvs(loc=18,mu=37,size=68)"
      ],
      "execution_count": null,
      "outputs": []
    },
    {
      "cell_type": "code",
      "metadata": {
        "colab": {
          "base_uri": "https://localhost:8080/"
        },
        "id": "G3LG0rL9fcYQ",
        "outputId": "d532c199-28e5-47e6-be3c-1094aa9ca64e"
      },
      "source": [
        "classB_ages.mean()"
      ],
      "execution_count": null,
      "outputs": [
        {
          "output_type": "execute_result",
          "data": {
            "text/plain": [
              "54.73529411764706"
            ]
          },
          "metadata": {
            "tags": []
          },
          "execution_count": 4
        }
      ]
    },
    {
      "cell_type": "code",
      "metadata": {
        "id": "RGa6GoVVfh6V"
      },
      "source": [
        "_,p_value=stats.ttest_ind(a=classA_ages,b=classB_ages,equal_var=False)"
      ],
      "execution_count": null,
      "outputs": []
    },
    {
      "cell_type": "code",
      "metadata": {
        "colab": {
          "base_uri": "https://localhost:8080/"
        },
        "id": "rkc2cmWEf1KF",
        "outputId": "d5ebfe77-ceea-4d81-933c-0c4af86d4f20"
      },
      "source": [
        "if p_value < 0.05:         #Alpha value = 0.05 OR 5%\n",
        "  print(\"Accepting null hypothesis\")  #Difference in age\n",
        "else:\n",
        "  print(\"Rejecting null hypothesis\")  #No difference in age"
      ],
      "execution_count": null,
      "outputs": [
        {
          "output_type": "stream",
          "text": [
            "Accepting null hypothesis\n"
          ],
          "name": "stdout"
        }
      ]
    },
    {
      "cell_type": "markdown",
      "metadata": {
        "id": "1ExW3S4DgIgr"
      },
      "source": [
        "Hence we conclude that in this Two sample T-Test we accept null hypothesis"
      ]
    }
  ]
}